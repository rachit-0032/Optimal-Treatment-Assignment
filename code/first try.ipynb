{
 "cells": [
  {
   "cell_type": "code",
   "execution_count": 3,
   "metadata": {},
   "outputs": [
    {
     "data": {
      "text/html": [
       "<div class=\"data-frame\"><p>502 rows × 18 columns (omitted printing of 11 columns)</p><table class=\"data-frame\"><thead><tr><th></th><th>patno</th><th>stage</th><th>rx</th><th>dtime</th><th>status</th><th>age</th><th>wt</th></tr><tr><th></th><th title=\"Int64\">Int64</th><th title=\"Int64\">Int64</th><th title=\"String15\">String15</th><th title=\"Int64\">Int64</th><th title=\"String31\">String31</th><th title=\"Union{Missing, Int64}\">Int64?</th><th title=\"Union{Missing, Int64}\">Int64?</th></tr></thead><tbody><tr><th>1</th><td>1</td><td>3</td><td>0.2 mg estrogen</td><td>72</td><td>alive</td><td>75</td><td>76</td></tr><tr><th>2</th><td>2</td><td>3</td><td>0.2 mg estrogen</td><td>1</td><td>dead - other ca</td><td>54</td><td>116</td></tr><tr><th>3</th><td>3</td><td>3</td><td>5.0 mg estrogen</td><td>40</td><td>dead - cerebrovascular</td><td>69</td><td>102</td></tr><tr><th>4</th><td>4</td><td>3</td><td>0.2 mg estrogen</td><td>20</td><td>dead - cerebrovascular</td><td>75</td><td>94</td></tr><tr><th>5</th><td>5</td><td>3</td><td>placebo</td><td>65</td><td>alive</td><td>67</td><td>99</td></tr><tr><th>6</th><td>6</td><td>3</td><td>0.2 mg estrogen</td><td>24</td><td>dead - prostatic ca</td><td>71</td><td>98</td></tr><tr><th>7</th><td>7</td><td>3</td><td>placebo</td><td>46</td><td>dead - heart or vascular</td><td>75</td><td>100</td></tr><tr><th>8</th><td>8</td><td>3</td><td>placebo</td><td>62</td><td>alive</td><td>73</td><td>114</td></tr><tr><th>9</th><td>9</td><td>3</td><td>1.0 mg estrogen</td><td>61</td><td>alive</td><td>60</td><td>110</td></tr><tr><th>10</th><td>10</td><td>3</td><td>1.0 mg estrogen</td><td>60</td><td>alive</td><td>78</td><td>107</td></tr><tr><th>11</th><td>11</td><td>3</td><td>1.0 mg estrogen</td><td>60</td><td>alive</td><td>77</td><td>89</td></tr><tr><th>12</th><td>12</td><td>3</td><td>5.0 mg estrogen</td><td>59</td><td>alive</td><td>74</td><td>105</td></tr><tr><th>13</th><td>13</td><td>3</td><td>0.2 mg estrogen</td><td>59</td><td>alive</td><td>74</td><td>107</td></tr><tr><th>14</th><td>14</td><td>3</td><td>placebo</td><td>49</td><td>dead - prostatic ca</td><td>55</td><td>112</td></tr><tr><th>15</th><td>15</td><td>3</td><td>5.0 mg estrogen</td><td>20</td><td>dead - cerebrovascular</td><td>73</td><td>88</td></tr><tr><th>16</th><td>16</td><td>3</td><td>5.0 mg estrogen</td><td>3</td><td>dead - heart or vascular</td><td>87</td><td>81</td></tr><tr><th>17</th><td>17</td><td>3</td><td>placebo</td><td>58</td><td>alive</td><td>64</td><td>90</td></tr><tr><th>18</th><td>18</td><td>3</td><td>1.0 mg estrogen</td><td>29</td><td>dead - pulmonary embolus</td><td>79</td><td>104</td></tr><tr><th>19</th><td>19</td><td>3</td><td>5.0 mg estrogen</td><td>26</td><td>dead - heart or vascular</td><td>62</td><td>90</td></tr><tr><th>20</th><td>20</td><td>3</td><td>5.0 mg estrogen</td><td>52</td><td>alive</td><td>74</td><td>107</td></tr><tr><th>21</th><td>21</td><td>3</td><td>5.0 mg estrogen</td><td>20</td><td>dead - heart or vascular</td><td>83</td><td>72</td></tr><tr><th>22</th><td>22</td><td>3</td><td>1.0 mg estrogen</td><td>51</td><td>alive</td><td>65</td><td>113</td></tr><tr><th>23</th><td>23</td><td>3</td><td>placebo</td><td>51</td><td>alive</td><td>61</td><td>97</td></tr><tr><th>24</th><td>24</td><td>4</td><td>5.0 mg estrogen</td><td>31</td><td>dead - prostatic ca</td><td>56</td><td>95</td></tr><tr><th>25</th><td>25</td><td>4</td><td>1.0 mg estrogen</td><td>42</td><td>dead - cerebrovascular</td><td>73</td><td>103</td></tr><tr><th>26</th><td>26</td><td>4</td><td>0.2 mg estrogen</td><td>38</td><td>dead - heart or vascular</td><td>69</td><td>75</td></tr><tr><th>27</th><td>27</td><td>4</td><td>placebo</td><td>69</td><td>alive</td><td>76</td><td>82</td></tr><tr><th>28</th><td>28</td><td>4</td><td>placebo</td><td>39</td><td>dead - prostatic ca</td><td>71</td><td>103</td></tr><tr><th>29</th><td>29</td><td>4</td><td>1.0 mg estrogen</td><td>33</td><td>dead - other ca</td><td>66</td><td>126</td></tr><tr><th>30</th><td>30</td><td>4</td><td>0.2 mg estrogen</td><td>8</td><td>dead - prostatic ca</td><td>76</td><td>90</td></tr><tr><th>&vellip;</th><td>&vellip;</td><td>&vellip;</td><td>&vellip;</td><td>&vellip;</td><td>&vellip;</td><td>&vellip;</td><td>&vellip;</td></tr></tbody></table></div>"
      ],
      "text/latex": [
       "\\begin{tabular}{r|cccccccc}\n",
       "\t& patno & stage & rx & dtime & status & age & wt & \\\\\n",
       "\t\\hline\n",
       "\t& Int64 & Int64 & String15 & Int64 & String31 & Int64? & Int64? & \\\\\n",
       "\t\\hline\n",
       "\t1 & 1 & 3 & 0.2 mg estrogen & 72 & alive & 75 & 76 & $\\dots$ \\\\\n",
       "\t2 & 2 & 3 & 0.2 mg estrogen & 1 & dead - other ca & 54 & 116 & $\\dots$ \\\\\n",
       "\t3 & 3 & 3 & 5.0 mg estrogen & 40 & dead - cerebrovascular & 69 & 102 & $\\dots$ \\\\\n",
       "\t4 & 4 & 3 & 0.2 mg estrogen & 20 & dead - cerebrovascular & 75 & 94 & $\\dots$ \\\\\n",
       "\t5 & 5 & 3 & placebo & 65 & alive & 67 & 99 & $\\dots$ \\\\\n",
       "\t6 & 6 & 3 & 0.2 mg estrogen & 24 & dead - prostatic ca & 71 & 98 & $\\dots$ \\\\\n",
       "\t7 & 7 & 3 & placebo & 46 & dead - heart or vascular & 75 & 100 & $\\dots$ \\\\\n",
       "\t8 & 8 & 3 & placebo & 62 & alive & 73 & 114 & $\\dots$ \\\\\n",
       "\t9 & 9 & 3 & 1.0 mg estrogen & 61 & alive & 60 & 110 & $\\dots$ \\\\\n",
       "\t10 & 10 & 3 & 1.0 mg estrogen & 60 & alive & 78 & 107 & $\\dots$ \\\\\n",
       "\t11 & 11 & 3 & 1.0 mg estrogen & 60 & alive & 77 & 89 & $\\dots$ \\\\\n",
       "\t12 & 12 & 3 & 5.0 mg estrogen & 59 & alive & 74 & 105 & $\\dots$ \\\\\n",
       "\t13 & 13 & 3 & 0.2 mg estrogen & 59 & alive & 74 & 107 & $\\dots$ \\\\\n",
       "\t14 & 14 & 3 & placebo & 49 & dead - prostatic ca & 55 & 112 & $\\dots$ \\\\\n",
       "\t15 & 15 & 3 & 5.0 mg estrogen & 20 & dead - cerebrovascular & 73 & 88 & $\\dots$ \\\\\n",
       "\t16 & 16 & 3 & 5.0 mg estrogen & 3 & dead - heart or vascular & 87 & 81 & $\\dots$ \\\\\n",
       "\t17 & 17 & 3 & placebo & 58 & alive & 64 & 90 & $\\dots$ \\\\\n",
       "\t18 & 18 & 3 & 1.0 mg estrogen & 29 & dead - pulmonary embolus & 79 & 104 & $\\dots$ \\\\\n",
       "\t19 & 19 & 3 & 5.0 mg estrogen & 26 & dead - heart or vascular & 62 & 90 & $\\dots$ \\\\\n",
       "\t20 & 20 & 3 & 5.0 mg estrogen & 52 & alive & 74 & 107 & $\\dots$ \\\\\n",
       "\t21 & 21 & 3 & 5.0 mg estrogen & 20 & dead - heart or vascular & 83 & 72 & $\\dots$ \\\\\n",
       "\t22 & 22 & 3 & 1.0 mg estrogen & 51 & alive & 65 & 113 & $\\dots$ \\\\\n",
       "\t23 & 23 & 3 & placebo & 51 & alive & 61 & 97 & $\\dots$ \\\\\n",
       "\t24 & 24 & 4 & 5.0 mg estrogen & 31 & dead - prostatic ca & 56 & 95 & $\\dots$ \\\\\n",
       "\t25 & 25 & 4 & 1.0 mg estrogen & 42 & dead - cerebrovascular & 73 & 103 & $\\dots$ \\\\\n",
       "\t26 & 26 & 4 & 0.2 mg estrogen & 38 & dead - heart or vascular & 69 & 75 & $\\dots$ \\\\\n",
       "\t27 & 27 & 4 & placebo & 69 & alive & 76 & 82 & $\\dots$ \\\\\n",
       "\t28 & 28 & 4 & placebo & 39 & dead - prostatic ca & 71 & 103 & $\\dots$ \\\\\n",
       "\t29 & 29 & 4 & 1.0 mg estrogen & 33 & dead - other ca & 66 & 126 & $\\dots$ \\\\\n",
       "\t30 & 30 & 4 & 0.2 mg estrogen & 8 & dead - prostatic ca & 76 & 90 & $\\dots$ \\\\\n",
       "\t$\\dots$ & $\\dots$ & $\\dots$ & $\\dots$ & $\\dots$ & $\\dots$ & $\\dots$ & $\\dots$ &  \\\\\n",
       "\\end{tabular}\n"
      ],
      "text/plain": [
       "\u001b[1m502×18 DataFrame\u001b[0m\n",
       "\u001b[1m Row \u001b[0m│\u001b[1m patno \u001b[0m\u001b[1m stage \u001b[0m\u001b[1m rx              \u001b[0m\u001b[1m dtime \u001b[0m\u001b[1m status                    \u001b[0m\u001b[1m age   \u001b[0m ⋯\n",
       "\u001b[1m     \u001b[0m│\u001b[90m Int64 \u001b[0m\u001b[90m Int64 \u001b[0m\u001b[90m String15        \u001b[0m\u001b[90m Int64 \u001b[0m\u001b[90m String31                  \u001b[0m\u001b[90m Int64?\u001b[0m ⋯\n",
       "─────┼──────────────────────────────────────────────────────────────────────────\n",
       "   1 │     1      3  0.2 mg estrogen     72  alive                          75 ⋯\n",
       "   2 │     2      3  0.2 mg estrogen      1  dead - other ca                54\n",
       "   3 │     3      3  5.0 mg estrogen     40  dead - cerebrovascular         69\n",
       "   4 │     4      3  0.2 mg estrogen     20  dead - cerebrovascular         75\n",
       "   5 │     5      3  placebo             65  alive                          67 ⋯\n",
       "   6 │     6      3  0.2 mg estrogen     24  dead - prostatic ca            71\n",
       "   7 │     7      3  placebo             46  dead - heart or vascular       75\n",
       "   8 │     8      3  placebo             62  alive                          73\n",
       "   9 │     9      3  1.0 mg estrogen     61  alive                          60 ⋯\n",
       "  10 │    10      3  1.0 mg estrogen     60  alive                          78\n",
       "  11 │    11      3  1.0 mg estrogen     60  alive                          77\n",
       "  ⋮  │   ⋮      ⋮           ⋮           ⋮                ⋮                ⋮    ⋱\n",
       " 493 │   497      3  5.0 mg estrogen     51  alive                          68\n",
       " 494 │   498      4  0.2 mg estrogen     14  dead - prostatic ca            64 ⋯\n",
       " 495 │   499      4  0.2 mg estrogen     27  dead - prostatic ca            75\n",
       " 496 │   500      4  1.0 mg estrogen     51  alive                          60\n",
       " 497 │   501      4  5.0 mg estrogen      5  dead - heart or vascular       73\n",
       " 498 │   502      3  1.0 mg estrogen      0  dead - other ca                78 ⋯\n",
       " 499 │   503      3  0.2 mg estrogen     41  dead - unspecified non-ca      78\n",
       " 500 │   504      3  1.0 mg estrogen     53  alive                          77\n",
       " 501 │   505      4  5.0 mg estrogen     19  dead - prostatic ca            82\n",
       " 502 │   506      4  1.0 mg estrogen      4  dead - prostatic ca            74 ⋯\n",
       "\u001b[36m                                                 12 columns and 481 rows omitted\u001b[0m"
      ]
     },
     "execution_count": 3,
     "metadata": {},
     "output_type": "execute_result"
    }
   ],
   "source": [
    "using CSV, DataFrames\n",
    "df = CSV.read(\"data/prostate.csv\", DataFrame)"
   ]
  },
  {
   "cell_type": "code",
   "execution_count": 15,
   "metadata": {},
   "outputs": [
    {
     "data": {
      "text/plain": [
       "502-element Vector{Int64}:\n",
       " 72\n",
       "  1\n",
       " 40\n",
       " 20\n",
       " 65\n",
       " 24\n",
       " 46\n",
       " 62\n",
       " 61\n",
       " 60\n",
       " 60\n",
       " 59\n",
       " 59\n",
       "  ⋮\n",
       " 52\n",
       " 51\n",
       " 51\n",
       " 14\n",
       " 27\n",
       " 51\n",
       "  5\n",
       "  0\n",
       " 41\n",
       " 53\n",
       " 19\n",
       "  4"
      ]
     },
     "execution_count": 15,
     "metadata": {},
     "output_type": "execute_result"
    }
   ],
   "source": [
    "X = select(df, Not([:patno, :rx, :dtime]))\n",
    "times = df.dtime\n",
    "\n",
    "# treatment_map = Dict(\n",
    "#   0 => \"0.2 mg estrogen\",\n",
    "#   1 => \"1.0 mg estrogen\",\n",
    "#   2 => \"5.0 mg estrogen\",\n",
    "#   3 => \"placebo\"\n",
    "# )\n",
    "\n",
    "# treatments = map(t -> treatment_map[t], df.rx)\n",
    "\n",
    "times = df.dtime"
   ]
  },
  {
   "cell_type": "code",
   "execution_count": 19,
   "metadata": {},
   "outputs": [
    {
     "data": {
      "text/plain": [
       "16-element view(::Vector{Int64}, [93, 105, 120, 143, 151, 173, 202, 219, 231, 337, 361, 382, 437, 464, 488, 498]) with eltype Int64:\n",
       " 1\n",
       " 1\n",
       " 1\n",
       " 1\n",
       " 1\n",
       " 1\n",
       " 1\n",
       " 1\n",
       " 1\n",
       " 1\n",
       " 1\n",
       " 1\n",
       " 1\n",
       " 1\n",
       " 1\n",
       " 1"
      ]
     },
     "execution_count": 19,
     "metadata": {},
     "output_type": "execute_result"
    }
   ],
   "source": [
    "times[times .== 0] .= 1"
   ]
  },
  {
   "cell_type": "code",
   "execution_count": 22,
   "metadata": {},
   "outputs": [
    {
     "data": {
      "text/plain": [
       "0"
      ]
     },
     "execution_count": 22,
     "metadata": {},
     "output_type": "execute_result"
    }
   ],
   "source": [
    "sum(times .== 0)"
   ]
  },
  {
   "cell_type": "code",
   "execution_count": 12,
   "metadata": {},
   "outputs": [
    {
     "data": {
      "text/plain": [
       "\"0.2 mg estrogen\""
      ]
     },
     "execution_count": 12,
     "metadata": {},
     "output_type": "execute_result"
    }
   ],
   "source": [
    "treatment_map[0]"
   ]
  },
  {
   "cell_type": "code",
   "execution_count": 14,
   "metadata": {},
   "outputs": [
    {
     "data": {
      "text/plain": [
       "18-element Vector{String}:\n",
       " \"patno\"\n",
       " \"stage\"\n",
       " \"rx\"\n",
       " \"dtime\"\n",
       " \"status\"\n",
       " \"age\"\n",
       " \"wt\"\n",
       " \"pf\"\n",
       " \"hx\"\n",
       " \"sbp\"\n",
       " \"dbp\"\n",
       " \"ekg\"\n",
       " \"hg\"\n",
       " \"sz\"\n",
       " \"sg\"\n",
       " \"ap\"\n",
       " \"bm\"\n",
       " \"sdate\""
      ]
     },
     "execution_count": 14,
     "metadata": {},
     "output_type": "execute_result"
    }
   ],
   "source": [
    "names(df)"
   ]
  },
  {
   "cell_type": "code",
   "execution_count": null,
   "metadata": {},
   "outputs": [],
   "source": []
  }
 ],
 "metadata": {
  "kernelspec": {
   "display_name": "Julia 1.8.1",
   "language": "julia",
   "name": "julia-1.8"
  },
  "language_info": {
   "file_extension": ".jl",
   "mimetype": "application/julia",
   "name": "julia",
   "version": "1.8.1"
  }
 },
 "nbformat": 4,
 "nbformat_minor": 2
}
